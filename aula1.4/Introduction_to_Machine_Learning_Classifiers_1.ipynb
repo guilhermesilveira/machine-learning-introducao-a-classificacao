{
  "nbformat": 4,
  "nbformat_minor": 0,
  "metadata": {
    "colab": {
      "name": "Introduction to Machine Learning Classifiers - 1.ipynb",
      "version": "0.3.2",
      "provenance": [],
      "collapsed_sections": []
    },
    "kernelspec": {
      "name": "python3",
      "display_name": "Python 3"
    }
  },
  "cells": [
    {
      "metadata": {
        "id": "9fbZtHKfa9Ct",
        "colab_type": "code",
        "colab": {}
      },
      "cell_type": "code",
      "source": [
        "# hairy, short legs, woof\n",
        "# 0 => NO, 1 => YES\n",
        "pig1 = [0, 1, 0]\n",
        "pig2 = [0, 1, 1]\n",
        "pig3 = [1, 1, 0]\n",
        "\n",
        "dog1 = [0, 1, 1]\n",
        "dog2 = [1, 0, 1]\n",
        "dog3 = [1, 1, 1]\n",
        "\n",
        "# 1 => PIG\n",
        "# 0 => DOG\n",
        "train_x = [pig1, pig2, pig3, dog1, dog2, dog3]\n",
        "train_y = [1, 1, 1, 0, 0, 0] # labels\n"
      ],
      "execution_count": 0,
      "outputs": []
    },
    {
      "metadata": {
        "id": "PcI1zmW5cOkB",
        "colab_type": "code",
        "colab": {
          "base_uri": "https://localhost:8080/",
          "height": 84
        },
        "outputId": "0e7ac4ac-f8d8-48a0-c88d-f42e6177e6bc"
      },
      "cell_type": "code",
      "source": [
        "from sklearn.svm import LinearSVC\n",
        "\n",
        "model = LinearSVC()\n",
        "model.fit(train_x, train_y)"
      ],
      "execution_count": 2,
      "outputs": [
        {
          "output_type": "execute_result",
          "data": {
            "text/plain": [
              "LinearSVC(C=1.0, class_weight=None, dual=True, fit_intercept=True,\n",
              "     intercept_scaling=1, loss='squared_hinge', max_iter=1000,\n",
              "     multi_class='ovr', penalty='l2', random_state=None, tol=0.0001,\n",
              "     verbose=0)"
            ]
          },
          "metadata": {
            "tags": []
          },
          "execution_count": 2
        }
      ]
    },
    {
      "metadata": {
        "id": "dDzW6dvFc1Y8",
        "colab_type": "code",
        "colab": {
          "base_uri": "https://localhost:8080/",
          "height": 34
        },
        "outputId": "34da9a74-386b-435e-da0b-903489e6372c"
      },
      "cell_type": "code",
      "source": [
        "mistery_animal = [1,1,1]\n",
        "model.predict([mistery_animal])"
      ],
      "execution_count": 3,
      "outputs": [
        {
          "output_type": "execute_result",
          "data": {
            "text/plain": [
              "array([0])"
            ]
          },
          "metadata": {
            "tags": []
          },
          "execution_count": 3
        }
      ]
    },
    {
      "metadata": {
        "id": "q25rnShidChh",
        "colab_type": "code",
        "colab": {}
      },
      "cell_type": "code",
      "source": [
        "mistery1 = [1,1,1]\n",
        "mistery2 = [1,1,0]\n",
        "mistery3 = [0,1,1]\n",
        "\n",
        "test_x = [mistery1, mistery2, mistery3]\n",
        "predictions = model.predict(test_x)"
      ],
      "execution_count": 0,
      "outputs": []
    },
    {
      "metadata": {
        "id": "7FjlqBurdb6B",
        "colab_type": "code",
        "colab": {}
      },
      "cell_type": "code",
      "source": [
        "test_y = [0, 1, 1]"
      ],
      "execution_count": 0,
      "outputs": []
    },
    {
      "metadata": {
        "id": "EVSNRAMldsOp",
        "colab_type": "code",
        "colab": {
          "base_uri": "https://localhost:8080/",
          "height": 34
        },
        "outputId": "854eb971-5c32-48ac-bd05-1ed2ceabe96c"
      },
      "cell_type": "code",
      "source": [
        "correct = (predictions == test_y).sum()\n",
        "total = len(test_y)\n",
        "print(\"Accuracy: \", correct / total * 100)"
      ],
      "execution_count": 6,
      "outputs": [
        {
          "output_type": "stream",
          "text": [
            "Accuracy:  66.66666666666666\n"
          ],
          "name": "stdout"
        }
      ]
    },
    {
      "metadata": {
        "id": "PjdPRcOqdwJ2",
        "colab_type": "code",
        "colab": {
          "base_uri": "https://localhost:8080/",
          "height": 34
        },
        "outputId": "e808aea3-39e2-4ea0-fc28-df09a055d2c2"
      },
      "cell_type": "code",
      "source": [
        "from sklearn.metrics import accuracy_score\n",
        "\n",
        "accuracy = accuracy_score(test_y, predictions) * 100\n",
        "print(\"Accuracy %.2f\"% accuracy)"
      ],
      "execution_count": 7,
      "outputs": [
        {
          "output_type": "stream",
          "text": [
            "Accuracy 66.67\n"
          ],
          "name": "stdout"
        }
      ]
    },
    {
      "metadata": {
        "id": "EptYNuznerRx",
        "colab_type": "code",
        "colab": {}
      },
      "cell_type": "code",
      "source": [
        ""
      ],
      "execution_count": 0,
      "outputs": []
    }
  ]
}